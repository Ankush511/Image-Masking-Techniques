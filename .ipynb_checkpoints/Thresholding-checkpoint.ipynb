{
 "cells": [
  {
   "cell_type": "code",
   "execution_count": 1,
   "id": "073ebecc-9040-45b8-a758-5ebff9e7ccaa",
   "metadata": {},
   "outputs": [],
   "source": [
    "import cv2\n",
    "import numpy as np\n",
    "import matplotlib.pyplot as plt"
   ]
  },
  {
   "cell_type": "code",
   "execution_count": 7,
   "id": "12cceb72-a722-4034-980a-22a868384ca3",
   "metadata": {},
   "outputs": [
    {
     "name": "stderr",
     "output_type": "stream",
     "text": [
      "[ WARN:0@5803.751] global cap_gstreamer.cpp:1173 isPipelinePlaying OpenCV | GStreamer warning: GStreamer: pipeline have not been created\n"
     ]
    }
   ],
   "source": [
    "cam = cv2.VideoCapture(1)\n",
    "\n",
    "while True:\n",
    "    _, img = cam.read()\n",
    "    \n",
    "    img = cv2.resize(img, (int(1280/2), int(720/2)))\n",
    "    img = cv2.flip(img, 1)\n",
    "    gray = cv2.cvtColor(img, cv2.COLOR_BGR2GRAY)\n",
    "\n",
    "    gray_thr1 = gray.copy()\n",
    "    gray_thr1[gray_thr1 > 200] = 30       # Black Background\n",
    "\n",
    "    gray_thr2 = gray.copy()\n",
    "    gray_thr2[gray_thr2 < 200] = 100      # White Background\n",
    "\n",
    "    cv2.imshow('Original', img)\n",
    "    cv2.imshow('Grayscale', gray)\n",
    "    cv2.imshow('Gray_thr1', gray_thr1)\n",
    "    cv2.imshow('Gray_thr2', gray_thr2)\n",
    "    \n",
    "    if cv2.waitKey(1) == 27:\n",
    "        cam.release()\n",
    "        break"
   ]
  },
  {
   "cell_type": "code",
   "execution_count": null,
   "id": "2b9684df-a71d-4a56-9fc6-6ae7e2bcb59b",
   "metadata": {},
   "outputs": [],
   "source": []
  }
 ],
 "metadata": {
  "kernelspec": {
   "display_name": "Python 3 (ipykernel)",
   "language": "python",
   "name": "python3"
  },
  "language_info": {
   "codemirror_mode": {
    "name": "ipython",
    "version": 3
   },
   "file_extension": ".py",
   "mimetype": "text/x-python",
   "name": "python",
   "nbconvert_exporter": "python",
   "pygments_lexer": "ipython3",
   "version": "3.11.8"
  }
 },
 "nbformat": 4,
 "nbformat_minor": 5
}
