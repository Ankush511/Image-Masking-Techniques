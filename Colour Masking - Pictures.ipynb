{
 "cells": [
  {
   "cell_type": "code",
   "execution_count": 1,
   "id": "be81cf95-ba58-4b8a-8d72-7dbbdbb72833",
   "metadata": {},
   "outputs": [],
   "source": [
    "import cv2\n",
    "import numpy as np\n",
    "import matplotlib.pyplot as plt"
   ]
  },
  {
   "cell_type": "code",
   "execution_count": 3,
   "id": "e7ab0980-2e5c-43fe-985a-c2092e69bc0f",
   "metadata": {},
   "outputs": [
    {
     "name": "stderr",
     "output_type": "stream",
     "text": [
      "2024-09-13 21:53:58.673 python[71794:8141925] +[IMKClient subclass]: chose IMKClient_Modern\n",
      "2024-09-13 21:53:58.673 python[71794:8141925] +[IMKInputSession subclass]: chose IMKInputSession_Modern\n"
     ]
    },
    {
     "data": {
      "text/plain": [
       "27"
      ]
     },
     "execution_count": 3,
     "metadata": {},
     "output_type": "execute_result"
    }
   ],
   "source": [
    "lower = np.array([0, 150, 100])\n",
    "upper = np.array([200, 220, 240])\n",
    "\n",
    "img = cv2.imread('img_1.png')\n",
    "\n",
    "mask = cv2.blur(img, (8,8))\n",
    "mask = cv2.inRange(mask, lower, upper)\n",
    "\n",
    "cv2.imshow(\"Frame-1\" , img)\n",
    "cv2.imshow(\"Mask-1\"  , mask)\n",
    "\n",
    "cv2.waitKey(0)"
   ]
  },
  {
   "cell_type": "code",
   "execution_count": null,
   "id": "9b9d0fa2-a987-4e41-b4b7-08a85f59deeb",
   "metadata": {},
   "outputs": [],
   "source": []
  }
 ],
 "metadata": {
  "kernelspec": {
   "display_name": "Python 3 (ipykernel)",
   "language": "python",
   "name": "python3"
  },
  "language_info": {
   "codemirror_mode": {
    "name": "ipython",
    "version": 3
   },
   "file_extension": ".py",
   "mimetype": "text/x-python",
   "name": "python",
   "nbconvert_exporter": "python",
   "pygments_lexer": "ipython3",
   "version": "3.11.8"
  }
 },
 "nbformat": 4,
 "nbformat_minor": 5
}
