{
 "cells": [
  {
   "cell_type": "code",
   "execution_count": 1,
   "id": "4201fcf3-5560-4b09-81f5-cefb396d0b90",
   "metadata": {},
   "outputs": [],
   "source": [
    "import cv2\n",
    "import numpy as np\n",
    "import matplotlib.pyplot as plt"
   ]
  },
  {
   "cell_type": "code",
   "execution_count": 3,
   "id": "02faa2f5-aca5-4be4-b872-246ad072302c",
   "metadata": {},
   "outputs": [
    {
     "name": "stderr",
     "output_type": "stream",
     "text": [
      "[ WARN:0@241.638] global cap_gstreamer.cpp:1173 isPipelinePlaying OpenCV | GStreamer warning: GStreamer: pipeline have not been created\n"
     ]
    }
   ],
   "source": [
    "camera = cv2.VideoCapture(1)\n",
    "\n",
    "lower = np.array([180,180,180])\n",
    "upper = np.array([255,255,255])\n",
    "\n",
    "while True:\n",
    "    \n",
    "    _ , img = camera.read()\n",
    "    img = cv2.flip(img,1)    \n",
    "    \n",
    "    mask = cv2.blur(img, (4,4))\n",
    "    mask = cv2.inRange(mask, lower, upper)\n",
    "    \n",
    "    cv2.imshow(\"Frame\" , img)\n",
    "    cv2.imshow(\"Mask\"  , mask)\n",
    "    \n",
    "    if (cv2.waitKey(1) == 27):\n",
    "        camera.release()\n",
    "        break\n",
    "        \n",
    "camera.release()   "
   ]
  },
  {
   "cell_type": "code",
   "execution_count": null,
   "id": "f81027c9-038e-476c-9dd4-104be6a897b3",
   "metadata": {},
   "outputs": [],
   "source": []
  }
 ],
 "metadata": {
  "kernelspec": {
   "display_name": "Python 3 (ipykernel)",
   "language": "python",
   "name": "python3"
  },
  "language_info": {
   "codemirror_mode": {
    "name": "ipython",
    "version": 3
   },
   "file_extension": ".py",
   "mimetype": "text/x-python",
   "name": "python",
   "nbconvert_exporter": "python",
   "pygments_lexer": "ipython3",
   "version": "3.11.8"
  }
 },
 "nbformat": 4,
 "nbformat_minor": 5
}
